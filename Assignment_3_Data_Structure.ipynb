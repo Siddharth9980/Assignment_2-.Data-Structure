{
  "nbformat": 4,
  "nbformat_minor": 0,
  "metadata": {
    "colab": {
      "provenance": [],
      "authorship_tag": "ABX9TyPQ55HeIcjHUDE7sS8hzGNy",
      "include_colab_link": true
    },
    "kernelspec": {
      "name": "python3",
      "display_name": "Python 3"
    },
    "language_info": {
      "name": "python"
    }
  },
  "cells": [
    {
      "cell_type": "markdown",
      "metadata": {
        "id": "view-in-github",
        "colab_type": "text"
      },
      "source": [
        "<a href=\"https://colab.research.google.com/github/Siddharth9980/Assignment_2-.Data-Structure/blob/main/Assignment_3_Data_Structure.ipynb\" target=\"_parent\"><img src=\"https://colab.research.google.com/assets/colab-badge.svg\" alt=\"Open In Colab\"/></a>"
      ]
    },
    {
      "cell_type": "markdown",
      "source": [
        "### Discuss String Slicing and provide example.\n",
        "\n",
        "Ans= In Python, string slicing is a powerful technique that allows you to extract specific portions of a string based on their character indices. It provides a flexible way to manipulate and work with strings efficiently.\n",
        "Basic Syntax\n",
        "\n",
        "The general syntax for string slicing is:"
      ],
      "metadata": {
        "id": "yhL-uVabkRpN"
      }
    },
    {
      "cell_type": "code",
      "source": [
        "my_string = \"Hello, World!\"\n",
        "\n",
        "# Extract the substring \"World\"\n",
        "substring = my_string[7:12]\n",
        "print(substring)  # Output: World"
      ],
      "metadata": {
        "colab": {
          "base_uri": "https://localhost:8080/"
        },
        "id": "42LsCxz2la0w",
        "outputId": "ca0974b0-0a52-4fb2-f555-009ca6c3f149"
      },
      "execution_count": 1,
      "outputs": [
        {
          "output_type": "stream",
          "name": "stdout",
          "text": [
            "World\n"
          ]
        }
      ]
    },
    {
      "cell_type": "code",
      "source": [
        "# Extract the characters from the beginning up to index 5 (excluding index 5)\n",
        "substring = my_string[:5]\n",
        "print(substring)  # Output: Hello,"
      ],
      "metadata": {
        "colab": {
          "base_uri": "https://localhost:8080/"
        },
        "id": "cjKlLJpOlxy6",
        "outputId": "f7722c92-2511-4b38-ba16-f9b7c8370090"
      },
      "execution_count": 2,
      "outputs": [
        {
          "output_type": "stream",
          "name": "stdout",
          "text": [
            "Hello\n"
          ]
        }
      ]
    },
    {
      "cell_type": "markdown",
      "source": [
        "### Explain the key feature of lists in python.\n",
        "\n",
        "Ans= Key Features of Lists in Python\n",
        "Lists are one of the most versatile data structures in Python, offering a wide range of features and functionalities. Here are some of the key characteristics:\n",
        "\n",
        "1. Ordered Sequence:\n",
        "Indexing: Elements in a list are ordered and can be accessed using their index, starting from 0.\n",
        "Slicing: You can extract subsets of a list using slicing, specifying the starting and ending indices.\n",
        "2. Mutable:\n",
        "Modification: Elements within a list can be changed, added, or removed after creation.\n",
        "Dynamic Size: Lists can grow or shrink as needed to accommodate new elements.\n",
        "3. Heterogeneous Elements:\n",
        "Mixed Data Types: A list can contain elements of different data types, such as inttegers, floats, strings, or even other lists.\n",
        "4. Methods and Operations:\n",
        "Built-in Methods: Python provides a rich set of methods for list manipulation, including append, insert, remove, pop, sort, reverse, and many more.\n",
        "Arithmetic Operations: You can perform operations like concatenation (+) and repetition (*) on lists.\n",
        "5. Nested Lists:\n",
        "Multi-dimensional Structures: Lists can contain other lists, creating nested structures for representing matrices, grids, or more complex data.\n",
        "6. Iterability:\n",
        "Looping: Lists are iterable, meaning you can use them in loops (like for loops) to process each element sequentially.\n",
        "7. Memory Management:\n",
        "Dynamic Allocation: Python's memory management system handles the allocation and deallocation of list elements automatically."
      ],
      "metadata": {
        "id": "gG8mtdJSl92P"
      }
    },
    {
      "cell_type": "code",
      "source": [
        "my_list = [10, \"hello\", 3.14, [1, 2, 3]]\n",
        "\n",
        "# Accessing elements\n",
        "print(my_list[0])  # Output: 10\n",
        "print(my_list[2])  # Output: 3.14\n",
        "\n",
        "# Modifying elements\n",
        "my_list[1] = \"world\"\n",
        "print(my_list)  # Output: [10, 'world', 3.14, [1, 2, 3]]\n",
        "\n",
        "# Adding elements\n",
        "my_list.append(5)\n",
        "print(my_list)  # Output: [10, 'world', 3.14, [1, 2, 3], 5]\n",
        "\n",
        "# Removing elements\n",
        "my_list.remove(\"world\")\n",
        "print(my_list)  # Output: [10, 3.14, [1, 2, 3], 5]"
      ],
      "metadata": {
        "colab": {
          "base_uri": "https://localhost:8080/"
        },
        "id": "37lCjN-Wm0VQ",
        "outputId": "ddd9e63f-d60c-4f61-ae3a-364f8ddd6f2c"
      },
      "execution_count": 3,
      "outputs": [
        {
          "output_type": "stream",
          "name": "stdout",
          "text": [
            "10\n",
            "3.14\n",
            "[10, 'world', 3.14, [1, 2, 3]]\n",
            "[10, 'world', 3.14, [1, 2, 3], 5]\n",
            "[10, 3.14, [1, 2, 3], 5]\n"
          ]
        }
      ]
    },
    {
      "cell_type": "markdown",
      "source": [
        "###Discus how to access,modify, delete elements in a list with examples.\n",
        "\n",
        "Ans=Accessing Elements\n",
        "Indexing: Use square brackets with the index to access a specific element."
      ],
      "metadata": {
        "id": "OJpAChK1m_SV"
      }
    },
    {
      "cell_type": "code",
      "source": [
        "my_list = [10, 20, 30, 40]\n",
        "print(my_list[0])  # Output: 10 (first element)\n",
        "print(my_list[-1])  # Output: 40 (last element)"
      ],
      "metadata": {
        "colab": {
          "base_uri": "https://localhost:8080/"
        },
        "id": "oftE4Tlgnf9S",
        "outputId": "d05efd20-105f-4665-acf1-873deb4c941e"
      },
      "execution_count": 4,
      "outputs": [
        {
          "output_type": "stream",
          "name": "stdout",
          "text": [
            "10\n",
            "40\n"
          ]
        }
      ]
    },
    {
      "cell_type": "markdown",
      "source": [
        "Slicing: Extract a range of elements using start:stop:step."
      ],
      "metadata": {
        "id": "DfoyDgG7nkWM"
      }
    },
    {
      "cell_type": "code",
      "source": [
        "print(my_list[1:3])  # Output: [20, 30]\n",
        "print(my_list[:2])  # Output: [10, 20]\n",
        "print(my_list[2:])  # Output: [30, 40]"
      ],
      "metadata": {
        "colab": {
          "base_uri": "https://localhost:8080/"
        },
        "id": "NY0GHcM-nqH5",
        "outputId": "e8cff299-a4a1-4dfc-a719-16e4eb039aa4"
      },
      "execution_count": 5,
      "outputs": [
        {
          "output_type": "stream",
          "name": "stdout",
          "text": [
            "[20, 30]\n",
            "[10, 20]\n",
            "[30, 40]\n"
          ]
        }
      ]
    },
    {
      "cell_type": "markdown",
      "source": [
        "Modifying Elements\n",
        "Direct Assignment: Assign a new value to a specific index."
      ],
      "metadata": {
        "id": "iMbwp6Drnujk"
      }
    },
    {
      "cell_type": "code",
      "source": [
        "my_list[2] = 50\n",
        "print(my_list)  # Output: [10, 20, 50, 40]"
      ],
      "metadata": {
        "colab": {
          "base_uri": "https://localhost:8080/"
        },
        "id": "c8BMDCBRnzrK",
        "outputId": "47dff5f2-80c6-4606-d316-838fcabcd027"
      },
      "execution_count": 6,
      "outputs": [
        {
          "output_type": "stream",
          "name": "stdout",
          "text": [
            "[10, 20, 50, 40]\n"
          ]
        }
      ]
    },
    {
      "cell_type": "markdown",
      "source": [
        "Slicing Assignment: Replace a range of elements with a new list."
      ],
      "metadata": {
        "id": "ephVhPpjn3u2"
      }
    },
    {
      "cell_type": "code",
      "source": [
        "my_list[1:3] = [60, 70]\n",
        "print(my_list)  # Output: [10, 60, 70, 40]"
      ],
      "metadata": {
        "colab": {
          "base_uri": "https://localhost:8080/"
        },
        "id": "5w05Wsg0n99f",
        "outputId": "30783f03-e35a-44ba-a142-2aab4434869a"
      },
      "execution_count": 7,
      "outputs": [
        {
          "output_type": "stream",
          "name": "stdout",
          "text": [
            "[10, 60, 70, 40]\n"
          ]
        }
      ]
    },
    {
      "cell_type": "markdown",
      "source": [
        "Deleting Elements\n",
        "del Keyword: Remove an element by its index."
      ],
      "metadata": {
        "id": "_WrGYLVIoE--"
      }
    },
    {
      "cell_type": "code",
      "source": [
        "del my_list[0]\n",
        "print(my_list)  # Output: [60, 70, 40]"
      ],
      "metadata": {
        "colab": {
          "base_uri": "https://localhost:8080/"
        },
        "id": "m95do1dxoHIY",
        "outputId": "de900816-45ae-416d-aa1c-b7c87a644f2b"
      },
      "execution_count": 8,
      "outputs": [
        {
          "output_type": "stream",
          "name": "stdout",
          "text": [
            "[60, 70, 40]\n"
          ]
        }
      ]
    },
    {
      "cell_type": "markdown",
      "source": [
        "remove() Method: Remove the first occurrence of a specific value."
      ],
      "metadata": {
        "id": "3n7u03t4oLZc"
      }
    },
    {
      "cell_type": "code",
      "source": [
        "my_list.remove(40)\n",
        "print(my_list)  # Output: [60, 70]"
      ],
      "metadata": {
        "colab": {
          "base_uri": "https://localhost:8080/"
        },
        "id": "ELqUtYXaoSDD",
        "outputId": "08bec913-9d9e-46b9-acd7-b28e1d10e03e"
      },
      "execution_count": 9,
      "outputs": [
        {
          "output_type": "stream",
          "name": "stdout",
          "text": [
            "[60, 70]\n"
          ]
        }
      ]
    },
    {
      "cell_type": "markdown",
      "source": [
        "pop() Method: Remove an element by its index and return its value."
      ],
      "metadata": {
        "id": "nSo9pWsaoWAx"
      }
    },
    {
      "cell_type": "code",
      "source": [
        "removed_value = my_list.pop(1)\n",
        "print(my_list)  # Output: [60]\n",
        "print(removed_value)  # Output: 70"
      ],
      "metadata": {
        "colab": {
          "base_uri": "https://localhost:8080/"
        },
        "id": "upQEsVeNoaz_",
        "outputId": "d6b3fd78-e86a-4d6d-b4dc-0b9caadedee8"
      },
      "execution_count": 10,
      "outputs": [
        {
          "output_type": "stream",
          "name": "stdout",
          "text": [
            "[60]\n",
            "70\n"
          ]
        }
      ]
    },
    {
      "cell_type": "markdown",
      "source": [
        "Additional Notes:\n",
        "\n",
        "Negative indices can be used to count from the end of the list.\n",
        "Lists are mutable, so changes made to a list affect the original object.\n",
        "Be careful when using slicing assignment, as it can change the length of the list."
      ],
      "metadata": {
        "id": "WWD462X6ogUD"
      }
    },
    {
      "cell_type": "markdown",
      "source": [
        "###Compare and contrast Tuple and List with the examples.\n",
        "\n",
        "Ans=Tuple vs. List: A Comparison\n",
        "Tuples and lists are both sequence data types in Python, but they have distinct characteristics and use cases.\n",
        "\n",
        "Similarities\n",
        "Both are ordered collections of elements.\n",
        "Both can contain elements of different data types.\n",
        "Both can be accessed using indexing.\n",
        "Differences\n",
        "Feature\tTuple\tList\n",
        "Mutability\tImmutable (cannot be changed after creation)\tMutable (can be modified)\n",
        "Syntax\tEnclosed in parentheses ()\tEnclosed in square brackets []\n",
        "Use Cases\tRepresenting immutable data (e.g., coordinates, configuration settings)\tStoring and manipulating dynamic collections of elements (e.g., shopping lists, user data)\n",
        "Common Operations\tIndexing, slicing, length, membership testing\tIndexing, slicing, length, membership testing, appending, inserting, removing, sorting,\n",
        "Examples\n",
        "Tuple:"
      ],
      "metadata": {
        "id": "GDB0iPTdorWw"
      }
    },
    {
      "cell_type": "code",
      "source": [
        "my_tuple = (1, 2, 3, \"hello\")\n",
        "print(my_tuple[0])  # Output: 1\n",
        "# my_tuple[0] = 5  # This will raise a TypeError as tuples are immutable"
      ],
      "metadata": {
        "colab": {
          "base_uri": "https://localhost:8080/"
        },
        "id": "oNTmeuTAph4Z",
        "outputId": "9d8144ec-98cb-42d8-d517-e38d88986256"
      },
      "execution_count": 11,
      "outputs": [
        {
          "output_type": "stream",
          "name": "stdout",
          "text": [
            "1\n"
          ]
        }
      ]
    },
    {
      "cell_type": "markdown",
      "source": [
        "List:"
      ],
      "metadata": {
        "id": "3tBWL2vSpmDx"
      }
    },
    {
      "cell_type": "code",
      "source": [
        "my_list = [1, 2, 3, \"hello\"]\n",
        "print(my_list[0])  # Output: 1\n",
        "my_list[0] = 5\n",
        "print(my_list)  # Output: [5, 2, 3, 'hello']"
      ],
      "metadata": {
        "colab": {
          "base_uri": "https://localhost:8080/"
        },
        "id": "lpbP2sR1pq2u",
        "outputId": "ad4b2733-515d-4852-f2a5-a3377a7e498c"
      },
      "execution_count": 12,
      "outputs": [
        {
          "output_type": "stream",
          "name": "stdout",
          "text": [
            "1\n",
            "[5, 2, 3, 'hello']\n"
          ]
        }
      ]
    },
    {
      "cell_type": "markdown",
      "source": [
        "Choosing Between Tuple and List:\n",
        "\n",
        "Tuples are often used for representing fixed data structures where elements should not be modified, such as coordinates, configuration settings, or return values from functions.\n",
        "Lists are more flexible and suitable for storing and manipulating dynamic collections of elements, such as user input, data from files, or intermediate calculations."
      ],
      "metadata": {
        "id": "N_5qhJxIpxXS"
      }
    },
    {
      "cell_type": "markdown",
      "source": [
        "###Describe the key features of  sets and provide the examples of their use.\n",
        "\n",
        "Ans= Key Features of Sets in Python\n",
        "Sets are unordered collections of unique elements in Python. They are useful for performing mathematical operations like union, intersection, difference, and symmetric difference.\n",
        "\n",
        "Key features:\n",
        "\n",
        "Unordered: Elements in a set do not have a specific order.\n",
        "Unique elements: Each element in a set must be unique. Duplicate elements are automatically removed.\n",
        "Mutable: Sets can be modified by adding or removing elements.\n",
        "No duplicate elements: Sets automatically eliminate duplicates, ensuring each element is present only once.\n",
        "Set operations: Sets support various mathematical operations like union, intersection, difference, and symmetric difference.\n"
      ],
      "metadata": {
        "id": "wNIUTiVLp15W"
      }
    },
    {
      "cell_type": "code",
      "source": [
        "## Exaple-\n",
        "\n",
        "# Creating a set\n",
        "my_set = {1, 2, 3, 4, 3}  # Duplicate 3 is automatically removed\n",
        "print(my_set)  # Output: {1, 2, 3, 4}\n",
        "\n",
        "# Adding elements\n",
        "my_set.add(5)\n",
        "print(my_set)  # Output: {1, 2, 3, 4, 5}\n",
        "\n",
        "# Removing elements\n",
        "my_set.remove(2)\n",
        "print(my_set)  # Output: {1, 3, 4, 5}\n",
        "\n",
        "# Set operations\n",
        "set1 = {1, 2, 3}\n",
        "set2 = {2, 3, 4}\n",
        "\n",
        "# Union: Combine all elements from both sets\n",
        "union_set = set1.union(set2)\n",
        "print(union_set)  # Output: {1, 2, 3, 4}\n",
        "\n",
        "# Intersection: Find common elements in both sets\n",
        "intersection_set = set1.intersection(set2)\n",
        "print(intersection_set)  # Output: {2, 3}\n",
        "\n",
        "# Difference: Find elements in set1 that are not in set2\n",
        "difference_set = set1.difference(set2)\n",
        "print(difference_set)  # Output: {1}\n",
        "\n",
        "# Symmetric difference: Find elements that are in either set but not both\n",
        "symmetric_difference_set = set1.symmetric_difference(set2)\n",
        "print(symmetric_difference_set)  # Output: {1, 4}"
      ],
      "metadata": {
        "colab": {
          "base_uri": "https://localhost:8080/"
        },
        "id": "HKyq_Q_Iqjic",
        "outputId": "5f4a2066-ad7f-489d-cc85-391f91e038cb"
      },
      "execution_count": 13,
      "outputs": [
        {
          "output_type": "stream",
          "name": "stdout",
          "text": [
            "{1, 2, 3, 4}\n",
            "{1, 2, 3, 4, 5}\n",
            "{1, 3, 4, 5}\n",
            "{1, 2, 3, 4}\n",
            "{2, 3}\n",
            "{1}\n",
            "{1, 4}\n"
          ]
        }
      ]
    },
    {
      "cell_type": "markdown",
      "source": [
        "Common use cases:\n",
        "\n",
        "Membership testing: Check if an element exists in a set.\n",
        "Removing duplicates: Create a set from a list or other iterable to remove duplicates.\n",
        "Mathematical operations: Perform set operations like union, intersection, difference, and symmetric difference.\n",
        "Data analysis: Analyze data sets to find common elements, unique elements, or differences.\n",
        "Sets are a powerful data structure in Python, providing efficient ways to work with unique elements and perform set operations."
      ],
      "metadata": {
        "id": "J3BXM6hRq5GV"
      }
    },
    {
      "cell_type": "markdown",
      "source": [
        "### Discuss the use case of tuples and sets in python programming.\n",
        "\n",
        "Ans= Use Cases of Tuples and Sets in Python Programming\n",
        "Tuples\n",
        "Tuples are immutable sequences, meaning their elements cannot be changed once created. They are often used in scenarios where:\n",
        "\n",
        "Fixed data: When you need to represent data that should not be modified, such as coordinates, configuration settings, or database records.\n",
        "Key-value pairs: As keys in dictionaries, since they are hashable and cannot be changed.\n",
        "Return values: To return multiple values from a function, as tuples can pack multiple values into a single object.\n",
        "Iterating over sequences: To iterate over elements in a sequence without modifying them.\n",
        "Sets\n",
        "Sets are unordered collections of unique elements. They are useful for:\n",
        "\n",
        "Membership testing: Quickly checking if an element is present in a set.\n",
        "Removing duplicates: Creating a set from a list or other iterable to remove duplicates.\n",
        "Mathematical operations: Performing set operations like union, intersection, difference, and symmetric difference.\n",
        "Data analysis: Analyzing data sets to find common elements, unique elements, or differences.\n",
        "Example:"
      ],
      "metadata": {
        "id": "Q0L1GwSnq7C6"
      }
    },
    {
      "cell_type": "code",
      "source": [
        "# Tuple: Representing a coordinate\n",
        "coordinate = (3, 4)\n",
        "\n",
        "# Set: Removing duplicates from a list\n",
        "numbers = [1, 2, 3, 2, 4, 1]\n",
        "unique_numbers = set(numbers)\n",
        "\n",
        "# Set operations\n",
        "set1 = {1, 2, 3}\n",
        "set2 = {2, 3, 4}\n",
        "union_set = set1.union(set2)  # {1, 2, 3, 4}\n",
        "intersection_set = set1.intersection(set2)  # {2, 3}"
      ],
      "metadata": {
        "id": "lgL7AHjAranc"
      },
      "execution_count": 16,
      "outputs": []
    },
    {
      "cell_type": "markdown",
      "source": [
        "In summary, tuples are ideal for representing immutable data and key-value pairs, while sets are useful for membership testing, removing duplicates, and performing set operations. The choice between tuples and sets depends on the specific requirements of your application."
      ],
      "metadata": {
        "id": "5g-SSSXOresa"
      }
    },
    {
      "cell_type": "markdown",
      "source": [
        "### Describe how to add , modify , and delete items in a dictionary with examples.\n",
        "\n",
        "Ans=Accessing, Modifying, and Deleting Items in a Dictionary\n",
        "Accessing Items:\n",
        "\n",
        "Key-based access: Use the key within square brackets to access the corresponding value."
      ],
      "metadata": {
        "id": "zba6jMWVrqYn"
      }
    },
    {
      "cell_type": "code",
      "source": [
        "my_dict = {\"name\": \"Alice\", \"age\": 30, \"city\": \"New York\"}\n",
        "print(my_dict[\"name\"])  # Output: Alice"
      ],
      "metadata": {
        "colab": {
          "base_uri": "https://localhost:8080/"
        },
        "id": "y6kRpMfhsQ1t",
        "outputId": "6a1eba52-7d1e-473a-8772-3b0a09349801"
      },
      "execution_count": 17,
      "outputs": [
        {
          "output_type": "stream",
          "name": "stdout",
          "text": [
            "Alice\n"
          ]
        }
      ]
    },
    {
      "cell_type": "markdown",
      "source": [
        "get() method: Use the get() method to retrieve a value, providing a default value if the key doesn't exist."
      ],
      "metadata": {
        "id": "QCexVD_2sUvY"
      }
    },
    {
      "cell_type": "code",
      "source": [
        "print(my_dict.get(\"country\", \"Unknown\"))  # Output: Unknown"
      ],
      "metadata": {
        "colab": {
          "base_uri": "https://localhost:8080/"
        },
        "id": "zr_NRWfbsYvU",
        "outputId": "1356a767-b6bc-40ae-de46-4e8f58486112"
      },
      "execution_count": 18,
      "outputs": [
        {
          "output_type": "stream",
          "name": "stdout",
          "text": [
            "Unknown\n"
          ]
        }
      ]
    },
    {
      "cell_type": "markdown",
      "source": [
        "Modifying Items:\n",
        "\n",
        "Direct assignment: Assign a new value to an existing key."
      ],
      "metadata": {
        "id": "bPVUvzfXsepp"
      }
    },
    {
      "cell_type": "code",
      "source": [
        "my_dict[\"age\"] = 31\n",
        "print(my_dict)  # Output: {'name': 'Alice', 'age': 31, 'city': 'New York'}"
      ],
      "metadata": {
        "colab": {
          "base_uri": "https://localhost:8080/"
        },
        "id": "3sk-UGzesj4N",
        "outputId": "c750c89b-0875-4dde-c973-3aba0505a548"
      },
      "execution_count": 19,
      "outputs": [
        {
          "output_type": "stream",
          "name": "stdout",
          "text": [
            "{'name': 'Alice', 'age': 31, 'city': 'New York'}\n"
          ]
        }
      ]
    },
    {
      "cell_type": "markdown",
      "source": [
        "update() method: Update multiple key-value pairs using another dictionary."
      ],
      "metadata": {
        "id": "_eDwcG2fspjv"
      }
    },
    {
      "cell_type": "code",
      "source": [
        "my_dict.update({\"city\": \"Los Angeles\", \"occupation\": \"Engineer\"})\n",
        "print(my_dict)  # Output: {'name': 'Alice', 'age': 31, 'city': 'Los Angeles', 'occupation': 'Engineer'}"
      ],
      "metadata": {
        "colab": {
          "base_uri": "https://localhost:8080/"
        },
        "id": "0mLijYugst_V",
        "outputId": "2652fb64-26a3-4a63-9145-6432ccd816f1"
      },
      "execution_count": 20,
      "outputs": [
        {
          "output_type": "stream",
          "name": "stdout",
          "text": [
            "{'name': 'Alice', 'age': 31, 'city': 'Los Angeles', 'occupation': 'Engineer'}\n"
          ]
        }
      ]
    },
    {
      "cell_type": "markdown",
      "source": [
        "Deleting Items:\n",
        "\n",
        "del keyword: Delete an item by its key.\n"
      ],
      "metadata": {
        "id": "d19bAUKAs1UA"
      }
    },
    {
      "cell_type": "code",
      "source": [
        "del my_dict[\"occupation\"]\n",
        "print(my_dict)  # Output: {'name': 'Alice', 'age': 31, 'city': 'Los Angeles'}"
      ],
      "metadata": {
        "colab": {
          "base_uri": "https://localhost:8080/"
        },
        "id": "GPJ2hN3Gs6QA",
        "outputId": "f38d0644-dc68-4be5-dfe4-614bbe8758f8"
      },
      "execution_count": 21,
      "outputs": [
        {
          "output_type": "stream",
          "name": "stdout",
          "text": [
            "{'name': 'Alice', 'age': 31, 'city': 'Los Angeles'}\n"
          ]
        }
      ]
    },
    {
      "cell_type": "markdown",
      "source": [
        "pop() method: Remove an item by its key and return its value."
      ],
      "metadata": {
        "id": "vA3dT40Bs-5f"
      }
    },
    {
      "cell_type": "code",
      "source": [
        "age = my_dict.pop(\"age\")\n",
        "print(my_dict)  # Output: {'name': 'Alice', 'city': 'Los Angeles'}\n",
        "print(age)  # Output: 31"
      ],
      "metadata": {
        "colab": {
          "base_uri": "https://localhost:8080/"
        },
        "id": "cKOjke7rtC68",
        "outputId": "b6f3f59f-8edd-45f1-9cdf-6696c0c9f8c9"
      },
      "execution_count": 22,
      "outputs": [
        {
          "output_type": "stream",
          "name": "stdout",
          "text": [
            "{'name': 'Alice', 'city': 'Los Angeles'}\n",
            "31\n"
          ]
        }
      ]
    },
    {
      "cell_type": "markdown",
      "source": [
        "popitem() method: Remove a random key-value pair and return it as a tuple."
      ],
      "metadata": {
        "id": "PrwNzRowtHW2"
      }
    },
    {
      "cell_type": "code",
      "source": [
        "item = my_dict.popitem()\n",
        "print(my_dict)  # Output: {'name': 'Alice'}\n",
        "print(item)  # Output: ('city', 'Los Angeles')"
      ],
      "metadata": {
        "colab": {
          "base_uri": "https://localhost:8080/"
        },
        "id": "hP5Qu4eVtLNk",
        "outputId": "cff83ca7-7b38-4fed-bb86-835c61f0de0b"
      },
      "execution_count": 23,
      "outputs": [
        {
          "output_type": "stream",
          "name": "stdout",
          "text": [
            "{'name': 'Alice'}\n",
            "('city', 'Los Angeles')\n"
          ]
        }
      ]
    },
    {
      "cell_type": "markdown",
      "source": [
        "Key Points:\n",
        "\n",
        "Dictionary keys must be unique and immutable (e.g., strings, numbers, tuples).\n",
        "The order of items in a dictionary is not guaranteed.\n",
        "Using the get() method avoids KeyError exceptions when accessing non-existent keys.\n",
        "The update() method is efficient for merging multiple dictionaries.\n",
        "The pop() and popitem() methods are useful for removing items and retrieving their values."
      ],
      "metadata": {
        "id": "U9hHFej3tVoc"
      }
    },
    {
      "cell_type": "markdown",
      "source": [
        "### Discuss the example of dictionary keys being immutable and provide examples.\n",
        "\n",
        "Ans= Dictionary Keys Must Be Immutable\n",
        "In Python, dictionary keys must be immutable objects. This means that the value of a key cannot be changed after it is created. This restriction is essential for the efficient implementation of dictionaries, which use keys to quickly locate and retrieve corresponding values.\n",
        "\n",
        "Why must dictionary keys be immutable?\n",
        "\n",
        "Hashing: Dictionaries use hashing to store and retrieve values efficiently. The hash value of a key is used to determine its location within the dictionary's internal data structure. If keys were mutable, their hash values could change over time, leading to unpredictable behavior and potential errors.\n",
        "Consistency: Immutable keys ensure that the dictionary's internal structure remains consistent and predictable. This makes it easier to reason about and manipulate dictionaries.\n",
        "Examples of immutable objects that can be used as dictionary keys:\n",
        "\n",
        "Numbers: Integers, floats, and complex numbers are all immutable.\n",
        "Strings: Strings are also immutable.\n",
        "Tuples: Tuples are immutable sequences of elements.\n",
        "Frozen sets: Frozen sets are immutable sets.\n",
        "Examples of mutable objects that cannot be used as dictionary keys:\n",
        "\n",
        "Lists: Lists are mutable and can be modified after creation.\n",
        "Dictionaries: Dictionaries are mutable and can be modified after creation.\n",
        "Sets: Sets are mutable and can be modified after creation.\n",
        "Example demonstrating the immutability requirement:"
      ],
      "metadata": {
        "id": "CpZkaqA8tadt"
      }
    },
    {
      "cell_type": "code",
      "source": [
        "my_dict = {1: \"apple\", \"banana\": 2, (3, 4): \"pear\"}\n",
        "\n",
        "# This will raise a TypeError because lists are mutable\n",
        "# my_dict[[1, 2]] = \"orange\"\n",
        "\n",
        "# This is valid because tuples are immutable\n",
        "my_dict[(5, 6)] = \"grape\""
      ],
      "metadata": {
        "id": "Edc-EqyYt513"
      },
      "execution_count": 24,
      "outputs": []
    },
    {
      "cell_type": "markdown",
      "source": [
        "In the example, the dictionary can use tuples as keys because they are immutable. However, attempting to use a list as a key would result in a TypeError.\n",
        "\n",
        "By understanding the immutability requirement for dictionary keys, you can avoid common errors and write more efficient and reliable Python code."
      ],
      "metadata": {
        "id": "1OD9U-rwuCeX"
      }
    }
  ]
}